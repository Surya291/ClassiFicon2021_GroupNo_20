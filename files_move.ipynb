{
 "cells": [
  {
   "cell_type": "code",
   "execution_count": 39,
   "metadata": {},
   "outputs": [],
   "source": [
    "import os\n",
    "import pandas  as pd\n",
    "import numpy as np\n",
    "import shutil\n",
    "import os\n"
   ]
  },
  {
   "cell_type": "code",
   "execution_count": 26,
   "metadata": {},
   "outputs": [],
   "source": [
    "train_df = pd.read_csv('train.csv')\n",
    "\n",
    "train_img = train_df.iloc[:,0]\n",
    "train_labels = train_df.iloc[:,1]\n",
    "\n",
    "test_df = pd.read_csv('test.csv')\n",
    "\n",
    "test_img = test_df.iloc[:,0]\n",
    "test_labels = test_df.iloc[:,1]"
   ]
  },
  {
   "cell_type": "code",
   "execution_count": 50,
   "metadata": {},
   "outputs": [
    {
     "name": "stdout",
     "output_type": "stream",
     "text": [
      "1610\n"
     ]
    }
   ],
   "source": [
    "train_np = train_df.to_numpy()\n",
    "test_np = test_df.to_numpy()\n",
    "\n",
    "print(len(test_np))"
   ]
  },
  {
   "cell_type": "code",
   "execution_count": 45,
   "metadata": {},
   "outputs": [],
   "source": [
    "src_dir = \"./happy_images\"\n",
    "dst_dir = \"./data/train_data/\"\n",
    "\n",
    "for i in train_np:\n",
    "    shutil.copy(os.path.join(src_dir, i[0] + str('.jpg')), dst_dir+str(i[1])+str('/'))\n",
    "        "
   ]
  },
  {
   "cell_type": "code",
   "execution_count": 49,
   "metadata": {},
   "outputs": [],
   "source": [
    "src_dir = \"./happy_images\"\n",
    "dst_dir = \"./data/val_data/\"\n",
    "\n",
    "for i in test_np:\n",
    "    shutil.copy(os.path.join(src_dir, i[0] + str('.jpg')), dst_dir+str(i[1])+str('/'))\n",
    "        "
   ]
  }
 ],
 "metadata": {
  "kernelspec": {
   "display_name": "Python 3",
   "language": "python",
   "name": "python3"
  },
  "language_info": {
   "codemirror_mode": {
    "name": "ipython",
    "version": 3
   },
   "file_extension": ".py",
   "mimetype": "text/x-python",
   "name": "python",
   "nbconvert_exporter": "python",
   "pygments_lexer": "ipython3",
   "version": "3.7.7"
  }
 },
 "nbformat": 4,
 "nbformat_minor": 4
}
